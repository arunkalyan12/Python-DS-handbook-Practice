{
 "cells": [
  {
   "cell_type": "code",
   "execution_count": 1,
   "id": "05c3a56f",
   "metadata": {},
   "outputs": [],
   "source": [
    "import numpy as np"
   ]
  },
  {
   "cell_type": "markdown",
   "id": "54b8e018",
   "metadata": {},
   "source": [
    "# The Basics of NumPy Arrays"
   ]
  },
  {
   "cell_type": "markdown",
   "id": "a5576f82",
   "metadata": {},
   "source": [
    "### Data Types of in numpy"
   ]
  },
  {
   "cell_type": "code",
   "execution_count": 17,
   "id": "a35a0d9f",
   "metadata": {},
   "outputs": [
    {
     "name": "stdout",
     "output_type": "stream",
     "text": [
      "[1 2 3 4]\n",
      "<class 'numpy.ndarray'>\n",
      "<class 'numpy.int32'>\n",
      "\n",
      "\n",
      "13.14\n",
      "(12+1j)\n",
      "\n",
      "\n",
      "[1.   2.   3.14 4.  ]\n",
      "<class 'numpy.float64'>\n",
      "<class 'numpy.float64'>\n",
      "\n",
      "\n",
      "[1 2 3 3 4]\n",
      "<class 'numpy.float64'>\n",
      "<class 'numpy.float64'>\n"
     ]
    }
   ],
   "source": [
    "array1 = np.array([1,2,3,4])\n",
    "print(array1)\n",
    "print(type(array1))\n",
    "print(type(array1[0]))\n",
    "\n",
    "'''\n",
    "If even one element in the ndarray is of a different data type then it will\n",
    "upcast based on the hierarchy below from lowert to highest\n",
    "\n",
    "boolean > int > float > complex\n",
    "\n",
    "'''\n",
    "\n",
    "a = 10  # int\n",
    "b = 3.14  # float\n",
    "c = 2 + 1j  # complex\n",
    "\n",
    "# Upcasting hierarchy:\n",
    "# int -> float -> complex\n",
    "\n",
    "result1 = a + b  # int is upcasted to float\n",
    "result2 = a + c  # int is upcasted to complex\n",
    "print(\"\\n\")\n",
    "\n",
    "print(result1)  # Output: 13.14\n",
    "print(result2)  # Output: (12+1j)\n",
    "\n",
    "\n",
    "array2 = np.array([1,2,3.14,4])\n",
    "print(\"\\n\")\n",
    "print(array2)\n",
    "print(str(type(array2[2])))\n",
    "print(type(array2[0]))\n",
    "\n",
    "#You can explicitly set the data type by using the method below\n",
    "\n",
    "array3 = np.array([1,2,3,3.14,4], dtype =  np.int32)\n",
    "print(\"\\n\")\n",
    "print(array3)\n",
    "print(str(type(array2[2])))\n",
    "print(type(array2[0]))\n"
   ]
  },
  {
   "cell_type": "markdown",
   "id": "dd97a588",
   "metadata": {},
   "source": [
    "### Accessing array and creating substring"
   ]
  },
  {
   "cell_type": "code",
   "execution_count": 49,
   "id": "d43c000a",
   "metadata": {},
   "outputs": [
    {
     "name": "stdout",
     "output_type": "stream",
     "text": [
      "x1: \n",
      " [5 0 3 3 7 9]\n",
      "\n",
      "\n",
      "x2: \n",
      " [[3 5 2 4]\n",
      " [7 6 8 8]\n",
      " [1 6 7 7]]\n",
      "\n",
      "\n",
      "x3: \n",
      " [[[8 1 5 9 8]\n",
      "  [9 4 3 0 3]\n",
      "  [5 0 2 3 8]\n",
      "  [1 3 3 3 7]]\n",
      "\n",
      " [[0 1 9 9 0]\n",
      "  [4 7 3 2 7]\n",
      "  [2 0 0 4 5]\n",
      "  [5 6 8 4 1]]\n",
      "\n",
      " [[4 9 8 1 1]\n",
      "  [7 9 9 3 6]\n",
      "  [7 2 0 3 5]\n",
      "  [9 4 4 6 4]]]\n",
      "\n",
      "\n",
      "\n",
      "1\n",
      "7\n",
      "\n",
      "\n",
      "\n",
      "[9 7 3 3 0 5]\n",
      "\n",
      "\n",
      "[[7 7 6 1]\n",
      " [8 8 6 7]\n",
      " [4 2 5 3]]\n",
      "\n",
      "\n",
      "\n",
      "[[3 5 2]]\n",
      "\n",
      "\n",
      "[[3 5]\n",
      " [7 6]\n",
      " [1 6]]\n",
      "\n",
      "Subarray of 3x2 of array x2 using extraction: \n",
      "[[3 5]\n",
      " [7 6]\n",
      " [1 6]]\n",
      "\n",
      "Subarray of extracted 3x2 but changed 0,0=99: \n",
      "[[99  5]\n",
      " [ 7  6]\n",
      " [ 1  6]]\n",
      "\n",
      "We see that change reflects on x2: \n",
      "[[99  5  2  4]\n",
      " [ 7  6  8  8]\n",
      " [ 1  6  7  7]]\n",
      "\n",
      "Subarray of extracted 3x2 as a copy with changed 1,1=99: \n",
      "[[99  5]\n",
      " [ 7 99]\n",
      " [ 1  6]]\n",
      "\n",
      "We see that change not reflects on x2: \n",
      "[[99  5  2  4]\n",
      " [ 7  6  8  8]\n",
      " [ 1  6  7  7]]\n",
      "\n",
      "\n",
      "\n",
      "[5 6 6]\n",
      "[1 6 7 7]\n"
     ]
    }
   ],
   "source": [
    "import random\n",
    "np.random.seed(0) # seed for reproducibility\n",
    "x1 = np.random.randint(10, size=6) # One-dimensional array\n",
    "x2 = np.random.randint(10, size=(3, 4)) # Two-dimensional array\n",
    "x3 = np.random.randint(10, size=(3, 4, 5)) # Three-dimensional array\n",
    "print(\"x1: \\n\", x1)\n",
    "print(\"\\n\")\n",
    "print(\"x2: \\n\", x2)\n",
    "print(\"\\n\")\n",
    "print(\"x3: \\n\", x3)\n",
    "\n",
    "print(\"\\n\\n\")\n",
    "\n",
    "#Array_Name[row, column]\n",
    "print(x2[2,0]) #This prints the element that is at the 2nd row and the first element\n",
    "print(x2[2,-1]) #This prints the element that is at the 2nd row and the first element from the end of that row\n",
    "\n",
    "#To reverse a array\n",
    "print (\"\\n\\n\")\n",
    "print(x1[::-1])\n",
    "print (\"\\n\")\n",
    "print(x2[::-1, ::-1]) #This first reverses the rows then also reverses the colums\n",
    "\n",
    "#Accessing and extracting a specific subarray\n",
    "print(\"\\n\\n\")\n",
    "print(x2[:1,:3]) #Print subarray containing elements of the 1st row and up to 3rd column\n",
    "print(\"\\n\")\n",
    "print(x2[:3, :2]) #Print subarray containing elements of upto 3nd row and up to 2nd column\n",
    "subarray_2x2 = x2[:3, :2]\n",
    "print(\"\\nSubarray of 3x2 of array x2 using extraction: \\n\" + str(subarray_2x2))\n",
    "subarray_2x2[0,0] = 99\n",
    "print(\"\\nSubarray of extracted 3x2 but changed 0,0=99: \\n\" + str(subarray_2x2))\n",
    "print(\"\\nWe see that change reflects on x2: \\n\" + str(x2))\n",
    "subarray_3x2_copy = x2[:3, :2].copy()\n",
    "subarray_3x2_copy[1,1] = 99\n",
    "print(\"\\nSubarray of extracted 3x2 as a copy with changed 1,1=99: \\n\" + str(subarray_3x2_copy))\n",
    "print(\"\\nWe see that change not reflects on x2: \\n\" + str(x2))\n",
    "\n",
    "\n",
    "#To print/access a entire row or a entire column in the array\n",
    "print(\"\\n\\n\")\n",
    "print(x2[:,1]) #Print 2nd column\n",
    "print(x2[2, :]) #Prints the 3rd row"
   ]
  },
  {
   "cell_type": "markdown",
   "id": "16fe5c3f",
   "metadata": {},
   "source": [
    "### Concatenation and splitting of arrays"
   ]
  },
  {
   "cell_type": "code",
   "execution_count": 78,
   "id": "31440f7a",
   "metadata": {
    "scrolled": false
   },
   "outputs": [
    {
     "name": "stdout",
     "output_type": "stream",
     "text": [
      "x: [1 2 3]\n",
      "y: [3 2 1]\n",
      "z: [1 1 1]\n",
      "\n",
      "\n",
      "x + y: [1 2 3 3 2 1]\n",
      "x + y + z: [1 2 3 3 2 1 1 1 1]\n",
      "\n",
      "\n",
      "Grid: \n",
      "[[1 2 3]\n",
      " [4 5 6]]\n",
      "\n",
      "Grid + grid: \n",
      "[[1 2 3]\n",
      " [4 5 6]\n",
      " [1 2 3]\n",
      " [4 5 6]]\n",
      "\n",
      "Grid + grid: \n",
      "[[1 2 3 1 2 3]\n",
      " [4 5 6 4 5 6]]\n",
      "\n",
      "\n",
      "x: [1 2 3]\n",
      "\n",
      "y: \n",
      "[[99]\n",
      " [99]]\n",
      "\n",
      "grid: \n",
      "[[9 8 7]\n",
      " [6 5 4]]\n",
      "\n",
      "Vertical stacked using vstack of x and grid: \n",
      "[[1 2 3]\n",
      " [9 8 7]\n",
      " [6 5 4]]\n",
      "\n",
      "Horizontally stacked using hstack of y and grid: \n",
      "[[ 9  8  7 99]\n",
      " [ 6  5  4 99]]\n",
      "\n",
      "\n",
      "\n",
      "x: [1, 2, 3, 99, 99, 3, 2, 1]\n",
      "\n",
      "All the arrays are splitted arrays are given below: \n",
      "[1 2 3] [99 99] [3 2 1]\n",
      "\n",
      "\n",
      "grid: \n",
      "[[ 0  1  2  3]\n",
      " [ 4  5  6  7]\n",
      " [ 8  9 10 11]\n",
      " [12 13 14 15]]\n",
      "\n",
      "Using vsplit (upper then lower) split at index 2 (exclusive): \n",
      "\n",
      "[[0 1 2 3]\n",
      " [4 5 6 7]]\n",
      "\n",
      "\n",
      "[[ 8  9 10 11]\n",
      " [12 13 14 15]]\n",
      "\n",
      "Using hsplit (left then right) split at index 2 (exclusive): \n",
      "\n",
      "[[ 0  1]\n",
      " [ 4  5]\n",
      " [ 8  9]\n",
      " [12 13]]\n",
      "\n",
      "\n",
      "[[ 2  3]\n",
      " [ 6  7]\n",
      " [10 11]\n",
      " [14 15]]\n"
     ]
    }
   ],
   "source": [
    "x = np.array([1, 2, 3])\n",
    "y = np.array([3, 2, 1])\n",
    "z = np.array([1, 1, 1])\n",
    "\n",
    "print(\"x: \" + str(x))\n",
    "print(\"y: \" + str(y))\n",
    "print(\"z: \" + str(z))\n",
    "\n",
    "print(\"\\n\\nx + y: \" + str(np.concatenate([x, y])))\n",
    "print(\"x + y + z: \" + str(np.concatenate([x, y, z])))\n",
    "\n",
    "grid = np.array([[1, 2, 3], [4, 5, 6]])\n",
    "print(\"\\n\\nGrid: \\n\" + str(grid))\n",
    "print(\"\\nGrid + grid: \\n\" + str(np.concatenate([grid, grid]))) #Default axis is 0 meaning it will concatonate by rows (one array below another)\n",
    "print(\"\\nGrid + grid: \\n\" + str(np.concatenate([grid, grid], axis= 1))) #Change axis to 1 meaning that it will concatonate based on column (one array next to eachother)\n",
    "\n",
    "#Is using arrays of varying dimenttions then use vstack (function that stacks vertically) and hstack (function that stacks horizontally)\n",
    "x = np.array([1, 2, 3])\n",
    "y = np.array([[99], [99]])\n",
    "grid = np.array([[9, 8, 7], [6, 5, 4]])\n",
    "print(\"\\n\\nx: \" + str(x))\n",
    "print(\"\\ny: \\n\" + str(y))\n",
    "print(\"\\ngrid: \\n\" + str(grid))\n",
    "print(\"\\nVertical stacked using vstack of x and grid: \\n\" + str(np.vstack([x, grid])))\n",
    "print(\"\\nHorizontally stacked using hstack of y and grid: \\n\" + str(np.hstack([grid, y])))\n",
    "\n",
    "x = [1, 2, 3, 99, 99, 3, 2, 1]\n",
    "x1, x2, x3 = np.split(x, [3, 5]) #Makes 3 different arrays having the first split at index 3 (exclusive) and second at index 5 (exclusive)\n",
    "print(\"\\n\\n\")\n",
    "print(\"x: \" + str(x))\n",
    "print(\"\\nAll the arrays are splitted arrays are given below: \")\n",
    "print(x1, x2, x3)\n",
    "\n",
    "#You can also use vsplit (vertically splitting) and hsplit (horizontal split)\n",
    "grid = np.arange(16).reshape((4, 4))\n",
    "print(\"\\n\\ngrid: \\n\" + str(grid))\n",
    "upper, lower = np.vsplit(grid, [2])\n",
    "print(\"\\nUsing vsplit (upper then lower) split at index 2 (exclusive): \\n\")\n",
    "print(upper)\n",
    "print(\"\\n\")\n",
    "print(lower)\n",
    "\n",
    "left, right = np.hsplit(grid, [2])\n",
    "print(\"\\nUsing hsplit (left then right) split at index 2 (exclusive): \\n\")\n",
    "print(left)\n",
    "print(\"\\n\")\n",
    "print(right)"
   ]
  },
  {
   "cell_type": "markdown",
   "id": "264e0247",
   "metadata": {},
   "source": [
    "# Computation on NumPy Arrays: Universal Functions AND Aggregations: Min, Max, and Everything in Between"
   ]
  },
  {
   "cell_type": "code",
   "execution_count": 82,
   "id": "92d8bdc7",
   "metadata": {},
   "outputs": [
    {
     "name": "stdout",
     "output_type": "stream",
     "text": [
      "[189 170 189 163 183 171 185 168 173 183 173 173 175 178 183 193 178 173\n",
      " 174 183 183 168 170 178 182 180 183 178 182 188 175 179 183 193 182 183\n",
      " 177 185 188 188 182 185 191 182]\n"
     ]
    }
   ],
   "source": [
    "import pandas as pd\n",
    "\n",
    "data = pd.read_csv('president_heights.csv')\n",
    "heights = np.array(data['height(cm)'])\n",
    "print(heights)"
   ]
  },
  {
   "cell_type": "code",
   "execution_count": 84,
   "id": "de4276f1",
   "metadata": {},
   "outputs": [
    {
     "name": "stdout",
     "output_type": "stream",
     "text": [
      "Mean height:  180.04545454545453\n",
      "Standard deviation: 6.983599441335736\n",
      "Minimum height:  163\n",
      "Maximum height:  193\n"
     ]
    }
   ],
   "source": [
    "print(\"Mean height: \", np.mean(heights))\n",
    "print(\"Standard deviation:\", np.std(heights))\n",
    "print(\"Minimum height: \", np.min(heights))\n",
    "print(\"Maximum height: \", np.max(heights))"
   ]
  },
  {
   "cell_type": "code",
   "execution_count": 85,
   "id": "79fe4e80",
   "metadata": {},
   "outputs": [
    {
     "name": "stdout",
     "output_type": "stream",
     "text": [
      "25th percentile:  174.75\n",
      "Median:  182.0\n",
      "75th percentile:  183.5\n"
     ]
    }
   ],
   "source": [
    "print(\"25th percentile: \", np.percentile(heights, 25))\n",
    "print(\"Median: \", np.median(heights))\n",
    "print(\"75th percentile: \", np.percentile(heights, 75))"
   ]
  },
  {
   "cell_type": "code",
   "execution_count": 87,
   "id": "cd0aa696",
   "metadata": {},
   "outputs": [
    {
     "data": {
      "image/png": "[encoded data removed]",
      "text/plain": [
       "<Figure size 432x288 with 1 Axes>"
      ]
     },
     "metadata": {
      "needs_background": "light"
     },
     "output_type": "display_data"
    }
   ],
   "source": [
    "import matplotlib.pyplot as plt\n",
    "import seaborn\n",
    "\n",
    "plt.hist(heights)\n",
    "plt.title('Height Distribution of US Presidents')\n",
    "plt.xlabel('height (cm)')\n",
    "plt.ylabel('number');"
   ]
  },
  {
   "cell_type": "code",
   "execution_count": null,
   "id": "8dfcc2ef",
   "metadata": {},
   "outputs": [],
   "source": []
  }
 ],
 "metadata": {
  "kernelspec": {
   "display_name": "Python 3 (ipykernel)",
   "language": "python",
   "name": "python3"
  },
  "language_info": {
   "codemirror_mode": {
    "name": "ipython",
    "version": 3
   },
   "file_extension": ".py",
   "mimetype": "text/x-python",
   "name": "python",
   "nbconvert_exporter": "python",
   "pygments_lexer": "ipython3",
   "version": "3.9.12"
  }
 },
 "nbformat": 4,
 "nbformat_minor": 5
}
